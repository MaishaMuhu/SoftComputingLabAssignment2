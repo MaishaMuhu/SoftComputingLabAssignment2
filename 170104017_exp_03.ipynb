{
  "nbformat": 4,
  "nbformat_minor": 0,
  "metadata": {
    "colab": {
      "name": "170104017_exp_03.ipynb",
      "provenance": [],
      "collapsed_sections": []
    },
    "kernelspec": {
      "name": "python3",
      "display_name": "Python 3"
    },
    "language_info": {
      "name": "python"
    },
    "accelerator": "GPU"
  },
  "cells": [
    {
      "cell_type": "code",
      "metadata": {
        "id": "HT9i40sMM5lt"
      },
      "source": [
        "import os\n",
        "import pandas as pd\n",
        "import torch\n",
        "from torch.utils.data import Dataset, DataLoader  \n",
        "from skimage import io"
      ],
      "execution_count": 1,
      "outputs": []
    },
    {
      "cell_type": "code",
      "metadata": {
        "id": "EvahDt2be8xz"
      },
      "source": [
        "import torch\n",
        "import torch.nn as nn\n",
        "import torchvision.transforms as transforms"
      ],
      "execution_count": 2,
      "outputs": []
    },
    {
      "cell_type": "code",
      "metadata": {
        "colab": {
          "base_uri": "https://localhost:8080/"
        },
        "id": "cjT53blqLYw3",
        "outputId": "9576ce7f-b65d-4484-8762-d7d5e62e2a93"
      },
      "source": [
        "from google.colab import drive\n",
        "drive.mount('/content/drive')"
      ],
      "execution_count": 3,
      "outputs": [
        {
          "output_type": "stream",
          "name": "stdout",
          "text": [
            "Mounted at /content/drive\n"
          ]
        }
      ]
    },
    {
      "cell_type": "markdown",
      "metadata": {
        "id": "CdvCkig7I4fY"
      },
      "source": [
        "# Experiment 3"
      ]
    },
    {
      "cell_type": "code",
      "metadata": {
        "colab": {
          "base_uri": "https://localhost:8080/"
        },
        "id": "my-Lx-VJI5zT",
        "outputId": "f1c6a54b-fd81-4b85-c553-5e78908c0174"
      },
      "source": [
        "!unzip \"/content/drive/MyDrive/SoftComputingLab/ASS_2/Dataset_2.zip\""
      ],
      "execution_count": 4,
      "outputs": [
        {
          "output_type": "stream",
          "name": "stdout",
          "text": [
            "Archive:  /content/drive/MyDrive/SoftComputingLab/ASS_2/Dataset_2.zip\n",
            "   creating: Dataset_2/\n",
            "  inflating: Dataset_2/t10k-images-idx3-ubyte  \n",
            "  inflating: Dataset_2/t10k-labels-idx1-ubyte  \n",
            "  inflating: Dataset_2/train-images-idx3-ubyte  \n",
            "  inflating: Dataset_2/train-labels-idx1-ubyte  \n",
            "  inflating: Dataset_2/verification_test.csv  \n",
            "  inflating: Dataset_2/verification_train.csv  \n"
          ]
        }
      ]
    },
    {
      "cell_type": "code",
      "metadata": {
        "id": "WpoWmdLjJLML"
      },
      "source": [
        "train_csv2  = pd.read_csv('/content/Dataset_2/verification_train.csv')\n",
        "test_csv2 = pd.read_csv('/content/Dataset_2/verification_test.csv')"
      ],
      "execution_count": 5,
      "outputs": []
    },
    {
      "cell_type": "code",
      "metadata": {
        "id": "rtmU_CAKJlVN"
      },
      "source": [
        "import numpy as np\n",
        "class second_Dataset(Dataset):\n",
        "    \"\"\"User defined class to build a datset using Pytorch class Dataset.\"\"\"\n",
        "    \n",
        "    def __init__(self, data, transform = None):\n",
        "        \"\"\"Method to initilaize variables.\"\"\" \n",
        "        self.data_MNIST = list(data.values)\n",
        "        self.transform = transform\n",
        "        \n",
        "        label = []\n",
        "        image = []\n",
        "        \n",
        "        for i in self.data_MNIST:\n",
        "             # first column is of labels.\n",
        "            label.append(i[0])\n",
        "            image.append(i[1:])\n",
        "        self.labels = np.asarray(label)\n",
        "        self.images = np.asarray(image).reshape(-1, 28, 28, 1).astype('float32')\n",
        "\n",
        "    def __getitem__(self, index):\n",
        "        label = self.labels[index]\n",
        "        image = self.images[index]\n",
        "        \n",
        "        if self.transform is not None:\n",
        "            image = self.transform(image)\n",
        "\n",
        "        return image, label\n",
        "\n",
        "    def __len__(self):\n",
        "        return len(self.images)"
      ],
      "execution_count": 6,
      "outputs": []
    },
    {
      "cell_type": "code",
      "metadata": {
        "id": "a1jEAEZCKQIU"
      },
      "source": [
        "train_set = second_Dataset(train_csv2, transform=transforms.Compose([transforms.ToTensor()]))\n",
        "test_set = second_Dataset(test_csv2, transform=transforms.Compose([transforms.ToTensor()]))\n",
        "\n",
        "train_loader = DataLoader(train_set, batch_size=100)\n",
        "test_loader = DataLoader(train_set, batch_size=100)"
      ],
      "execution_count": 7,
      "outputs": []
    },
    {
      "cell_type": "markdown",
      "metadata": {
        "id": "OywTz1uCLg_V"
      },
      "source": [
        "For experiment 1"
      ]
    },
    {
      "cell_type": "code",
      "metadata": {
        "colab": {
          "base_uri": "https://localhost:8080/"
        },
        "id": "Za7FBndHL3HN",
        "outputId": "afbaeb2a-71fa-4340-d49a-54d7d24c80b2"
      },
      "source": [
        "print(len(train_set))\n",
        "print(len(test_set))"
      ],
      "execution_count": 8,
      "outputs": [
        {
          "output_type": "stream",
          "name": "stdout",
          "text": [
            "60000\n",
            "10000\n"
          ]
        }
      ]
    },
    {
      "cell_type": "code",
      "metadata": {
        "colab": {
          "base_uri": "https://localhost:8080/"
        },
        "id": "tdJtSw82MSSB",
        "outputId": "c8221562-821c-41d4-ccff-681c898968f8"
      },
      "source": [
        "# Hyperparameters\n",
        "\n",
        "batch_size = 20\n",
        "num_iters = 20000\n",
        "input_dim = 28*28 # num_features = 784\n",
        "num_hidden = 200 # num of hidden nodes\n",
        "output_dim = 10\n",
        "\n",
        "learning_rate = 0.01  # More power so we can learn faster! previously it was 0.001\n",
        "\n",
        "# Device\n",
        "device = torch.device(\"cuda:0\" if torch.cuda.is_available() else \"cpu\")\n",
        "\n",
        "\n",
        "\n",
        "\n",
        "'''\n",
        "MAKING DATASET ITERABLE\n",
        "'''\n",
        "num_epochs = num_iters / (len(train_set) / batch_size)\n",
        "num_epochs = int(num_epochs)\n",
        "\n",
        "train_loader = torch.utils.data.DataLoader(dataset=train_set, \n",
        "                                           batch_size=batch_size, \n",
        "                                           shuffle=True)   # It's better to shuffle the whole training dataset! \n",
        "\n",
        "test_loader = torch.utils.data.DataLoader(dataset=test_set, \n",
        "                                          batch_size=batch_size, \n",
        "                                          shuffle=False)\n",
        "\n",
        "\n",
        "\n",
        "\n",
        "\n",
        "class DeepNeuralNetworkModel(nn.Module):\n",
        "    def __init__(self, input_size, num_classes, num_hidden):\n",
        "        super().__init__()\n",
        "        ### 1st hidden layer: 784 --> 100\n",
        "        self.linear_1 = nn.Linear(input_size, num_hidden)\n",
        "        ### Non-linearity in 1st hidden layer\n",
        "        self.relu_1 = nn.ReLU()\n",
        "\n",
        "        ### 2nd hidden layer: 100 --> 100\n",
        "        self.linear_2 = nn.Linear(num_hidden, num_hidden)\n",
        "        ### Non-linearity in 2nd hidden layer\n",
        "        self.relu_2 = nn.ReLU()\n",
        "\n",
        "        ### 3rd hidden layer: 100 --> 100\n",
        "        self.linear_3 = nn.Linear(num_hidden, num_hidden)\n",
        "        ### Non-linearity in 2nd hidden layer\n",
        "        self.relu_3 = nn.ReLU()\n",
        "\n",
        "        ### 4th hidden layer: 100 --> 100\n",
        "        self.linear_4 = nn.Linear(num_hidden, num_hidden)\n",
        "        ### Non-linearity in 2nd hidden layer\n",
        "        self.relu_4 = nn.ReLU()\n",
        "\n",
        "        ### 5th hidden layer: 100 --> 100\n",
        "        self.linear_5 = nn.Linear(num_hidden, num_hidden)\n",
        "        ### Non-linearity in 2nd hidden layer\n",
        "        self.relu_5 = nn.ReLU()\n",
        "\n",
        "        ### 6th hidden layer: 100 --> 100\n",
        "        self.linear_6 = nn.Linear(num_hidden, num_hidden)\n",
        "        ### Non-linearity in 2nd hidden layer\n",
        "        self.relu_6 = nn.ReLU()\n",
        "\n",
        "        ### Output layer: 100 --> 10\n",
        "        self.linear_out = nn.Linear(num_hidden, num_classes)\n",
        "\n",
        "    def forward(self, x):\n",
        "        ### 1st hidden layer\n",
        "        out  = self.linear_1(x)\n",
        "        ### Non-linearity in 1st hidden layer\n",
        "        out = self.relu_1(out)\n",
        "        \n",
        "        ### 2nd hidden layer\n",
        "        out  = self.linear_2(out)\n",
        "        ### Non-linearity in 2nd hidden layer\n",
        "        out = self.relu_2(out)\n",
        "        \n",
        "        ### 3rd hidden layer\n",
        "        out  = self.linear_3(out)\n",
        "        ### Non-linearity in 1st hidden layer\n",
        "        out = self.relu_3(out)\n",
        "        \n",
        "        ### 4th hidden layer\n",
        "        out  = self.linear_4(out)\n",
        "        ### Non-linearity in 2nd hidden layer\n",
        "        out = self.relu_4(out)\n",
        "\n",
        "        ### 5th hidden layer\n",
        "        out  = self.linear_5(out)\n",
        "        ### Non-linearity in 1st hidden layer\n",
        "        out = self.relu_5(out)\n",
        "        \n",
        "        ### 6th hidden layer\n",
        "        out  = self.linear_6(out)\n",
        "        ### Non-linearity in 2nd hidden layer\n",
        "        out = self.relu_6(out)\n",
        "     \n",
        "        # Linear layer (output)\n",
        "        probas  = self.linear_out(out)\n",
        "        return probas\n",
        "\n",
        "\n",
        "# INSTANTIATE MODEL CLASS\n",
        "\n",
        "model = DeepNeuralNetworkModel(input_size = input_dim,\n",
        "                               num_classes = output_dim,\n",
        "                               num_hidden = num_hidden)\n",
        "# To enable GPU\n",
        "model.to(device)\n",
        "\n",
        "# INSTANTIATE LOSS & OPTIMIZER CLASS\n",
        "\n",
        "criterion = nn.CrossEntropyLoss()\n",
        "optimizer = torch.optim.SGD(model.parameters(), lr=learning_rate)\n",
        "iteration_loss= []\n",
        "iter = 0\n",
        "for epoch in range(num_epochs):\n",
        "    for i, (images, labels) in enumerate(train_loader):\n",
        "\n",
        "        images = images.view(-1, 28*28).to(device)\n",
        "        labels = labels.to(device)\n",
        "\n",
        "        # Clear gradients w.r.t. parameters\n",
        "        optimizer.zero_grad()\n",
        "\n",
        "        # Forward pass to get output/logits\n",
        "        outputs = model(images) \n",
        "\n",
        "        # Calculate Loss: softmax --> cross entropy loss\n",
        "        loss = criterion(outputs, labels)\n",
        "\n",
        "        # Getting gradients w.r.t. parameters\n",
        "        loss.backward()\n",
        "\n",
        "        # Updating parameters\n",
        "        optimizer.step()\n",
        "\n",
        "        iter += 1\n",
        "\n",
        "        if iter % 500 == 0:\n",
        "            # Calculate Accuracy         \n",
        "            correct = 0\n",
        "            total = 0\n",
        "            # Iterate through test dataset\n",
        "            for images, labels in test_loader:\n",
        "               \n",
        "                images = images.view(-1, 28*28).to(device)\n",
        "\n",
        "                # Forward pass only to get logits/output\n",
        "                outputs = model(images)\n",
        "\n",
        "                # Get predictions from the maximum value\n",
        "                _, predicted = torch.max(outputs, 1)\n",
        "\n",
        "                # Total number of labels\n",
        "                total += labels.size(0)\n",
        "\n",
        "\n",
        "                # Total correct predictions\n",
        "                if torch.cuda.is_available():\n",
        "                    correct += (predicted.cpu() == labels.cpu()).sum() \n",
        "                else:\n",
        "                    correct += (predicted == labels).sum()\n",
        "\n",
        "            accuracy = 100 * correct.item() / total\n",
        "\n",
        "            # Print Loss\n",
        "            iteration_loss.append(loss.item())\n",
        "            print('Iteration: {}. Loss: {}. Accuracy: {}'.format(iter, loss.item(), accuracy))"
      ],
      "execution_count": 9,
      "outputs": [
        {
          "output_type": "stream",
          "name": "stdout",
          "text": [
            "Iteration: 500. Loss: 0.6891279816627502. Accuracy: 74.4\n",
            "Iteration: 1000. Loss: 0.5077216625213623. Accuracy: 80.8\n",
            "Iteration: 1500. Loss: 0.33847030997276306. Accuracy: 83.85\n",
            "Iteration: 2000. Loss: 0.4402025640010834. Accuracy: 81.92\n",
            "Iteration: 2500. Loss: 0.09167042374610901. Accuracy: 81.91\n",
            "Iteration: 3000. Loss: 0.30736061930656433. Accuracy: 82.27\n",
            "Iteration: 3500. Loss: 0.6872134804725647. Accuracy: 84.8\n",
            "Iteration: 4000. Loss: 0.48154550790786743. Accuracy: 85.97\n",
            "Iteration: 4500. Loss: 0.30011242628097534. Accuracy: 85.48\n",
            "Iteration: 5000. Loss: 0.7749454379081726. Accuracy: 86.0\n",
            "Iteration: 5500. Loss: 0.6040371060371399. Accuracy: 85.07\n",
            "Iteration: 6000. Loss: 0.7104323506355286. Accuracy: 86.16\n",
            "Iteration: 6500. Loss: 0.37528640031814575. Accuracy: 82.96\n",
            "Iteration: 7000. Loss: 0.2987636923789978. Accuracy: 86.89\n",
            "Iteration: 7500. Loss: 0.7708823084831238. Accuracy: 86.26\n",
            "Iteration: 8000. Loss: 0.28419169783592224. Accuracy: 86.73\n",
            "Iteration: 8500. Loss: 0.6671302318572998. Accuracy: 87.48\n",
            "Iteration: 9000. Loss: 0.8046510815620422. Accuracy: 83.72\n",
            "Iteration: 9500. Loss: 0.23747801780700684. Accuracy: 87.33\n",
            "Iteration: 10000. Loss: 0.1307486593723297. Accuracy: 86.93\n",
            "Iteration: 10500. Loss: 0.29823651909828186. Accuracy: 87.24\n",
            "Iteration: 11000. Loss: 0.41326457262039185. Accuracy: 87.71\n",
            "Iteration: 11500. Loss: 0.4735468029975891. Accuracy: 87.79\n",
            "Iteration: 12000. Loss: 0.4838947355747223. Accuracy: 86.84\n",
            "Iteration: 12500. Loss: 0.47272437810897827. Accuracy: 87.13\n",
            "Iteration: 13000. Loss: 0.4615335464477539. Accuracy: 87.42\n",
            "Iteration: 13500. Loss: 0.196505606174469. Accuracy: 87.79\n",
            "Iteration: 14000. Loss: 0.16692253947257996. Accuracy: 87.42\n",
            "Iteration: 14500. Loss: 0.14346268773078918. Accuracy: 87.12\n",
            "Iteration: 15000. Loss: 0.2310362160205841. Accuracy: 88.28\n",
            "Iteration: 15500. Loss: 0.49255743622779846. Accuracy: 87.56\n",
            "Iteration: 16000. Loss: 0.38790786266326904. Accuracy: 88.42\n",
            "Iteration: 16500. Loss: 0.6087489128112793. Accuracy: 86.84\n",
            "Iteration: 17000. Loss: 0.37649741768836975. Accuracy: 87.55\n",
            "Iteration: 17500. Loss: 0.1510678231716156. Accuracy: 88.05\n",
            "Iteration: 18000. Loss: 0.15614920854568481. Accuracy: 88.26\n"
          ]
        }
      ]
    },
    {
      "cell_type": "code",
      "metadata": {
        "colab": {
          "base_uri": "https://localhost:8080/",
          "height": 316
        },
        "id": "Egeoid1fNCBc",
        "outputId": "276643b5-cd61-4630-fc65-d0118748a6ef"
      },
      "source": [
        "import matplotlib\n",
        "import matplotlib.pyplot as plt\n",
        "\n",
        "print (iteration_loss)\n",
        "plt.plot(iteration_loss)\n",
        "plt.ylabel('Loss')\n",
        "plt.xlabel('Iteration (in every 500)')\n",
        "plt.show()"
      ],
      "execution_count": 10,
      "outputs": [
        {
          "output_type": "stream",
          "name": "stdout",
          "text": [
            "[0.6891279816627502, 0.5077216625213623, 0.33847030997276306, 0.4402025640010834, 0.09167042374610901, 0.30736061930656433, 0.6872134804725647, 0.48154550790786743, 0.30011242628097534, 0.7749454379081726, 0.6040371060371399, 0.7104323506355286, 0.37528640031814575, 0.2987636923789978, 0.7708823084831238, 0.28419169783592224, 0.6671302318572998, 0.8046510815620422, 0.23747801780700684, 0.1307486593723297, 0.29823651909828186, 0.41326457262039185, 0.4735468029975891, 0.4838947355747223, 0.47272437810897827, 0.4615335464477539, 0.196505606174469, 0.16692253947257996, 0.14346268773078918, 0.2310362160205841, 0.49255743622779846, 0.38790786266326904, 0.6087489128112793, 0.37649741768836975, 0.1510678231716156, 0.15614920854568481]\n"
          ]
        },
        {
          "output_type": "display_data",
          "data": {
            "image/png": "[encoded data removed]",
            "text/plain": [
              "<Figure size 432x288 with 1 Axes>"
            ]
          },
          "metadata": {
            "needs_background": "light"
          }
        }
      ]
    },
    {
      "cell_type": "markdown",
      "metadata": {
        "id": "EYDq9VlyQas5"
      },
      "source": [
        "For experiment 2"
      ]
    },
    {
      "cell_type": "code",
      "metadata": {
        "colab": {
          "base_uri": "https://localhost:8080/"
        },
        "id": "MjVggKBIQsiB",
        "outputId": "f6818b1b-b5cd-4145-d11a-74dc327d1776"
      },
      "source": [
        "# Hyperparameters\n",
        "\n",
        "#Batch Parameters\n",
        "batch_size = 250\n",
        "num_iters = 20000\n",
        "input_dim = 28*28\n",
        "num_hidden = 400\n",
        "output_dim = 10\n",
        "\n",
        "learning_rate = 0.01\n",
        "\n",
        "num_epochs = num_iters / (len(train_set) / batch_size)\n",
        "num_epochs = int(num_epochs)\n",
        "print(num_epochs)\n",
        "\n",
        "device = torch.device(\"cuda:0\" if torch.cuda.is_available() else \"cpu\")\n",
        "\n",
        "\n",
        "\n",
        "'''\n",
        "MAKING DATASET ITERABLE\n",
        "'''\n",
        "\n",
        "train_loader = torch.utils.data.DataLoader(dataset=train_set, \n",
        "                                           batch_size=batch_size, \n",
        "                                           shuffle=True)   # It's better to shuffle the whole training dataset! \n",
        "\n",
        "test_loader = torch.utils.data.DataLoader(dataset=test_set, \n",
        "                                          batch_size=batch_size, \n",
        "                                          shuffle=False)  \n",
        "\n",
        "class DeepNeuralNetworkModel(nn.Module):\n",
        "    def __init__(self, input_size, num_classes, num_hidden):\n",
        "        super().__init__()\n",
        "\n",
        "       #First Hidden Layer\n",
        "        self.linear_1 = nn.Linear(input_size, num_hidden)\n",
        "        self.relu_1 = nn.ReLU()\n",
        "\n",
        "        #2nd Hidden Layer\n",
        "        self.linear_2 = nn.Linear(num_hidden, num_hidden)\n",
        "        self.relu_2 = nn.ReLU()\n",
        "\n",
        "         #3rd Hidden Layer\n",
        "        self.linear_3 = nn.Linear(num_hidden, num_hidden)\n",
        "        self.relu_3 = nn.Softmax(dim=0)\n",
        "\n",
        "         #4th Hidden Layer\n",
        "        self.linear_4 = nn.Linear(num_hidden, num_hidden)\n",
        "        self.relu_4 = nn.Softmax(dim=0)\n",
        "\n",
        "         #5th Hidden Layer\n",
        "        self.linear_5= nn.Linear(num_hidden, num_hidden)\n",
        "        self.relu_5= nn.Tanh()\n",
        "        \n",
        "        #6th Hidden Layer\n",
        "        self.linear_6 = nn.Linear(num_hidden, num_hidden)\n",
        "        self.relu_6 = nn.Tanh()\n",
        "\n",
        "        #7th Hidden Layer\n",
        "        self.linear_7 = nn.Linear(num_hidden, num_hidden)\n",
        "        self.relu_7 = nn.Tanh()\n",
        "\n",
        " \n",
        "        self.linear_out = nn.Linear(num_hidden, num_classes)\n",
        " \n",
        "    def forward(self, x):\n",
        "        out  = self.linear_1(x)\n",
        "        out = self.relu_1(out)\n",
        "        \n",
        "        out  = self.linear_2(out)\n",
        "        out = self.relu_2(out)\n",
        " \n",
        "        out  = self.linear_3(out)\n",
        "        out = self.relu_3(out)\n",
        " \n",
        "        out  = self.linear_4(out)\n",
        "        out = self.relu_4(out)\n",
        " \n",
        "        out  = self.linear_5(out)\n",
        "        out = self.relu_5(out)\n",
        " \n",
        "        out  = self.linear_6(out)\n",
        "        out = self.relu_6(out)\n",
        "\n",
        "        out  = self.linear_7(out)\n",
        "        out = self.relu_7(out)\n",
        "\n",
        "        \n",
        "        \n",
        "        probas  = self.linear_out(out)\n",
        "        return probas\n",
        "\n",
        "\n",
        "# INSTANTIATE MODEL CLASS\n",
        "\n",
        "model = DeepNeuralNetworkModel(input_size = input_dim,\n",
        "                               num_classes = output_dim,\n",
        "                               num_hidden = num_hidden)\n",
        "# To enable GPU\n",
        "model.to(device)\n",
        "\n",
        "# INSTANTIATE LOSS & OPTIMIZER CLASS\n",
        "\n",
        "criterion = nn.CrossEntropyLoss()\n",
        "optimizer = torch.optim.SGD(model.parameters(), lr=learning_rate)\n",
        "\n",
        "iteration_loss = []\n",
        "iter = 0\n",
        "for epoch in range(num_epochs):\n",
        "    for i, (images, labels) in enumerate(train_loader):\n",
        "\n",
        "        images = images.view(-1, 28*28).to(device)\n",
        "        labels = labels.to(device)\n",
        "\n",
        "        # Clear gradients w.r.t. parameters\n",
        "        optimizer.zero_grad()\n",
        "\n",
        "        # Forward pass to get output/logits\n",
        "        outputs = model(images) \n",
        "\n",
        "        # Calculate Loss: softmax --> cross entropy loss\n",
        "        loss = criterion(outputs, labels)\n",
        "\n",
        "        # Getting gradients w.r.t. parameters\n",
        "        loss.backward()\n",
        "\n",
        "        # Updating parameters\n",
        "        optimizer.step()\n",
        "\n",
        "        iter += 1\n",
        "\n",
        "        if iter % 500 == 0:\n",
        "            # Calculate Accuracy         \n",
        "            correct = 0\n",
        "            total = 0\n",
        "            # Iterate through test dataset\n",
        "            for images, labels in test_loader:\n",
        "               \n",
        "                images = images.view(-1, 28*28).to(device)\n",
        "\n",
        "                # Forward pass only to get logits/output\n",
        "                outputs = model(images)\n",
        "\n",
        "                # Get predictions from the maximum value\n",
        "                _, predicted = torch.max(outputs, 1)\n",
        "\n",
        "                # Total number of labels\n",
        "                total += labels.size(0)\n",
        "\n",
        "\n",
        "                # Total correct predictions\n",
        "                if torch.cuda.is_available():\n",
        "                    correct += (predicted.cpu() == labels.cpu()).sum() \n",
        "                else:\n",
        "                    correct += (predicted == labels).sum()\n",
        "\n",
        "            accuracy = 100 * correct.item() / total\n",
        "\n",
        "            # Print Loss\n",
        "            iteration_loss.append(loss.item())\n",
        "            print('Iteration: {}. Loss: {}. Accuracy: {}'.format(iter, loss.item(), accuracy))"
      ],
      "execution_count": 11,
      "outputs": [
        {
          "output_type": "stream",
          "name": "stdout",
          "text": [
            "83\n",
            "Iteration: 500. Loss: 2.3026936054229736. Accuracy: 10.0\n",
            "Iteration: 1000. Loss: 2.3026859760284424. Accuracy: 10.0\n",
            "Iteration: 1500. Loss: 2.3024799823760986. Accuracy: 10.0\n",
            "Iteration: 2000. Loss: 2.30269455909729. Accuracy: 10.0\n",
            "Iteration: 2500. Loss: 2.3030202388763428. Accuracy: 10.0\n",
            "Iteration: 3000. Loss: 2.3024885654449463. Accuracy: 10.0\n",
            "Iteration: 3500. Loss: 2.302645683288574. Accuracy: 10.0\n",
            "Iteration: 4000. Loss: 2.302521228790283. Accuracy: 10.0\n",
            "Iteration: 4500. Loss: 2.3025474548339844. Accuracy: 10.0\n",
            "Iteration: 5000. Loss: 2.302565574645996. Accuracy: 10.0\n",
            "Iteration: 5500. Loss: 2.302513599395752. Accuracy: 10.0\n",
            "Iteration: 6000. Loss: 2.3026254177093506. Accuracy: 10.0\n",
            "Iteration: 6500. Loss: 2.302584171295166. Accuracy: 10.0\n",
            "Iteration: 7000. Loss: 2.3025777339935303. Accuracy: 10.0\n",
            "Iteration: 7500. Loss: 2.3022823333740234. Accuracy: 10.0\n",
            "Iteration: 8000. Loss: 2.3025662899017334. Accuracy: 10.0\n",
            "Iteration: 8500. Loss: 2.302644729614258. Accuracy: 10.0\n",
            "Iteration: 9000. Loss: 2.3025872707366943. Accuracy: 10.0\n",
            "Iteration: 9500. Loss: 2.302661895751953. Accuracy: 10.0\n",
            "Iteration: 10000. Loss: 2.3026955127716064. Accuracy: 10.0\n",
            "Iteration: 10500. Loss: 2.3027572631835938. Accuracy: 10.0\n",
            "Iteration: 11000. Loss: 2.302652359008789. Accuracy: 10.0\n",
            "Iteration: 11500. Loss: 2.3026483058929443. Accuracy: 10.0\n",
            "Iteration: 12000. Loss: 2.3026435375213623. Accuracy: 10.0\n",
            "Iteration: 12500. Loss: 2.3028507232666016. Accuracy: 10.0\n",
            "Iteration: 13000. Loss: 2.302539110183716. Accuracy: 10.0\n",
            "Iteration: 13500. Loss: 2.302523136138916. Accuracy: 10.0\n",
            "Iteration: 14000. Loss: 2.3027870655059814. Accuracy: 9.97\n",
            "Iteration: 14500. Loss: 2.302457332611084. Accuracy: 10.0\n",
            "Iteration: 15000. Loss: 2.302737236022949. Accuracy: 10.0\n",
            "Iteration: 15500. Loss: 2.3027193546295166. Accuracy: 10.0\n",
            "Iteration: 16000. Loss: 2.3026282787323. Accuracy: 10.0\n",
            "Iteration: 16500. Loss: 2.302381992340088. Accuracy: 10.0\n",
            "Iteration: 17000. Loss: 2.302448272705078. Accuracy: 10.0\n",
            "Iteration: 17500. Loss: 2.302622079849243. Accuracy: 10.0\n",
            "Iteration: 18000. Loss: 2.3027243614196777. Accuracy: 10.0\n",
            "Iteration: 18500. Loss: 2.302677869796753. Accuracy: 10.0\n",
            "Iteration: 19000. Loss: 2.3027231693267822. Accuracy: 10.04\n",
            "Iteration: 19500. Loss: 2.3023533821105957. Accuracy: 10.0\n"
          ]
        }
      ]
    },
    {
      "cell_type": "code",
      "metadata": {
        "colab": {
          "base_uri": "https://localhost:8080/",
          "height": 327
        },
        "id": "sRwHUTSiRARF",
        "outputId": "4a1b6b96-85e5-4607-d76e-51a90e85074c"
      },
      "source": [
        "import matplotlib\n",
        "import matplotlib.pyplot as plt\n",
        "\n",
        "print (iteration_loss)\n",
        "plt.plot(iteration_loss)\n",
        "plt.ylabel('Loss')\n",
        "plt.xlabel('Iteration (in every 500)')\n",
        "plt.show()"
      ],
      "execution_count": 12,
      "outputs": [
        {
          "output_type": "stream",
          "name": "stdout",
          "text": [
            "[2.3026936054229736, 2.3026859760284424, 2.3024799823760986, 2.30269455909729, 2.3030202388763428, 2.3024885654449463, 2.302645683288574, 2.302521228790283, 2.3025474548339844, 2.302565574645996, 2.302513599395752, 2.3026254177093506, 2.302584171295166, 2.3025777339935303, 2.3022823333740234, 2.3025662899017334, 2.302644729614258, 2.3025872707366943, 2.302661895751953, 2.3026955127716064, 2.3027572631835938, 2.302652359008789, 2.3026483058929443, 2.3026435375213623, 2.3028507232666016, 2.302539110183716, 2.302523136138916, 2.3027870655059814, 2.302457332611084, 2.302737236022949, 2.3027193546295166, 2.3026282787323, 2.302381992340088, 2.302448272705078, 2.302622079849243, 2.3027243614196777, 2.302677869796753, 2.3027231693267822, 2.3023533821105957]\n"
          ]
        },
        {
          "output_type": "display_data",
          "data": {
            "image/png": "[encoded data removed]",
            "text/plain": [
              "<Figure size 432x288 with 1 Axes>"
            ]
          },
          "metadata": {
            "needs_background": "light"
          }
        }
      ]
    },
    {
      "cell_type": "code",
      "metadata": {
        "id": "nPuF3fuNVaRQ"
      },
      "source": [
        ""
      ],
      "execution_count": null,
      "outputs": []
    }
  ]
}